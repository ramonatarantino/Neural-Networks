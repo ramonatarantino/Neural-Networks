{
  "cells": [
    {
      "cell_type": "markdown",
      "metadata": {
        "id": "M9rv2_JUCi9h"
      },
      "source": [
        "### librerie"
      ]
    },
    {
      "cell_type": "code",
      "execution_count": null,
      "metadata": {
        "id": "_AvQ3C7CCkiW"
      },
      "outputs": [],
      "source": [
        "import sys\n",
        "import os\n",
        "import shutil\n",
        "import warnings\n",
        "\n",
        "import numpy as np\n",
        "import pandas as pd\n",
        "import matplotlib.pyplot as plt\n",
        "import seaborn as sns\n",
        "\n",
        "import tensorflow as tf\n",
        "import tensorflow.keras as keras\n",
        "\n",
        "from tensorflow.image import extract_patches\n",
        "\n",
        "from keras.utils import image_dataset_from_directory\n",
        "from keras.preprocessing.image import ImageDataGenerator\n",
        "from keras.models import Sequential\n",
        "from keras.optimizers import Adam\n",
        "from keras import Input, Model\n",
        "from keras import layers\n",
        "\n",
        "from sklearn.model_selection import train_test_split\n",
        "from sklearn.metrics import classification_report,confusion_matrix\n",
        "from sklearn.utils.class_weight import compute_class_weight\n",
        "\n",
        "import cv2\n",
        "\n",
        "sns.set_style('darkgrid')\n",
        "\n",
        "warnings.simplefilter(action='ignore', category=FutureWarning)"
      ]
    },
    {
      "cell_type": "code",
      "execution_count": null,
      "metadata": {
        "id": "is9FCa4TCnHu"
      },
      "outputs": [],
      "source": [
        "import random\n",
        "\n",
        "random.seed(42)\n",
        "np.random.seed(42)\n",
        "tf.random.set_seed(42)\n",
        "os.environ['PYTHONHASHSEED'] = str(42)\n",
        "os.environ['TF_DETERMINISTIC_OPS'] = '1'"
      ]
    },
    {
      "cell_type": "code",
      "execution_count": null,
      "metadata": {
        "id": "sf6-Dis6DXf7"
      },
      "outputs": [],
      "source": [
        "from tensorflow.keras.callbacks import ModelCheckpoint, EarlyStopping\n",
        "\n",
        "# Callback per salvare il modello con la migliore accuratezza di validazione\n",
        "checkpoint_cb = ModelCheckpoint(\"best_model.h5\", save_best_only=True, monitor='val_accuracy')\n",
        "\n",
        "# Callback per fermare l'addestramento se non c'è miglioramento in 'patience' epoche\n",
        "early_stopping_cb = EarlyStopping(patience=10, restore_best_weights=True, monitor='val_accuracy')\n"
      ]
    },
    {
      "cell_type": "markdown",
      "metadata": {
        "id": "L2MCbHkDBsye"
      },
      "source": [
        "### DATASET"
      ]
    },
    {
      "cell_type": "code",
      "execution_count": null,
      "metadata": {
        "colab": {
          "base_uri": "https://localhost:8080/"
        },
        "id": "IMrnOtpiBZI5",
        "outputId": "97c4475f-09ce-44cd-fa1c-88aaab7625d9"
      },
      "outputs": [
        {
          "name": "stdout",
          "output_type": "stream",
          "text": [
            "Downloading chest-xray-pneumonia, 2463365435 bytes compressed\n",
            "[==================================================] 2463365435 bytes downloaded\n",
            "Downloaded and uncompressed: chest-xray-pneumonia\n",
            "Data source import complete.\n"
          ]
        }
      ],
      "source": [
        "\n",
        "# IMPORTANT: RUN THIS CELL IN ORDER TO IMPORT YOUR KAGGLE DATA SOURCES\n",
        "# TO THE CORRECT LOCATION (/kaggle/input) IN YOUR NOTEBOOK,\n",
        "# THEN FEEL FREE TO DELETE THIS CELL.\n",
        "# NOTE: THIS NOTEBOOK ENVIRONMENT DIFFERS FROM KAGGLE'S PYTHON\n",
        "# ENVIRONMENT SO THERE MAY BE MISSING LIBRARIES USED BY YOUR\n",
        "# NOTEBOOK.\n",
        "\n",
        "import os\n",
        "import sys\n",
        "from tempfile import NamedTemporaryFile\n",
        "from urllib.request import urlopen\n",
        "from urllib.parse import unquote, urlparse\n",
        "from urllib.error import HTTPError\n",
        "from zipfile import ZipFile\n",
        "import tarfile\n",
        "import shutil\n",
        "\n",
        "CHUNK_SIZE = 40960\n",
        "DATA_SOURCE_MAPPING = 'chest-xray-pneumonia:https%3A%2F%2Fstorage.googleapis.com%2Fkaggle-data-sets%2F17810%2F23812%2Fbundle%2Farchive.zip%3FX-Goog-Algorithm%3DGOOG4-RSA-SHA256%26X-Goog-Credential%3Dgcp-kaggle-com%2540kaggle-161607.iam.gserviceaccount.com%252F20240127%252Fauto%252Fstorage%252Fgoog4_request%26X-Goog-Date%3D20240127T113032Z%26X-Goog-Expires%3D259200%26X-Goog-SignedHeaders%3Dhost%26X-Goog-Signature%3D6fdddea08edc34bddc05a6a83e93561b640a8cf13dd82f7622d1de5ba70e6ba33c7e786aa2bb788b87b64ed0e167fd383d43bf1cb4f6054177a97224d24e7cfd3b1e30c82360bf5e4606c7b0519dda6d08be507c7c8989a5e8d5b6e021328e60ecc23467795b6525aa6427729e2183b10772364f545e50eef48b25caae5c5ab9288acc15ea7aa61c4edd1731b5703c185eafe86555848db7d5e0b5c60d5d66783a4237aed487c7f128e87f083f1c667e969361fb6739098d98494afa0ea7ef6305198f28ca86818d0a27627c7acca7fb3722c70840dd4946cc3b9c4106ece9443acaf6cbeb60f43e9f0182299bd18e7b57d2b9ebac85758bf19b0c041d82cd57'\n",
        "\n",
        "KAGGLE_INPUT_PATH='/kaggle/input'\n",
        "KAGGLE_WORKING_PATH='/kaggle/working'\n",
        "KAGGLE_SYMLINK='kaggle'\n",
        "\n",
        "!umount /kaggle/input/ 2> /dev/null\n",
        "shutil.rmtree('/kaggle/input', ignore_errors=True)\n",
        "os.makedirs(KAGGLE_INPUT_PATH, 0o777, exist_ok=True)\n",
        "os.makedirs(KAGGLE_WORKING_PATH, 0o777, exist_ok=True)\n",
        "\n",
        "try:\n",
        "  os.symlink(KAGGLE_INPUT_PATH, os.path.join(\"..\", 'input'), target_is_directory=True)\n",
        "except FileExistsError:\n",
        "  pass\n",
        "try:\n",
        "  os.symlink(KAGGLE_WORKING_PATH, os.path.join(\"..\", 'working'), target_is_directory=True)\n",
        "except FileExistsError:\n",
        "  pass\n",
        "\n",
        "for data_source_mapping in DATA_SOURCE_MAPPING.split(','):\n",
        "    directory, download_url_encoded = data_source_mapping.split(':')\n",
        "    download_url = unquote(download_url_encoded)\n",
        "    filename = urlparse(download_url).path\n",
        "    destination_path = os.path.join(KAGGLE_INPUT_PATH, directory)\n",
        "    try:\n",
        "        with urlopen(download_url) as fileres, NamedTemporaryFile() as tfile:\n",
        "            total_length = fileres.headers['content-length']\n",
        "            print(f'Downloading {directory}, {total_length} bytes compressed')\n",
        "            dl = 0\n",
        "            data = fileres.read(CHUNK_SIZE)\n",
        "            while len(data) > 0:\n",
        "                dl += len(data)\n",
        "                tfile.write(data)\n",
        "                done = int(50 * dl / int(total_length))\n",
        "                sys.stdout.write(f\"\\r[{'=' * done}{' ' * (50-done)}] {dl} bytes downloaded\")\n",
        "                sys.stdout.flush()\n",
        "                data = fileres.read(CHUNK_SIZE)\n",
        "            if filename.endswith('.zip'):\n",
        "              with ZipFile(tfile) as zfile:\n",
        "                zfile.extractall(destination_path)\n",
        "            else:\n",
        "              with tarfile.open(tfile.name) as tarfile:\n",
        "                tarfile.extractall(destination_path)\n",
        "            print(f'\\nDownloaded and uncompressed: {directory}')\n",
        "    except HTTPError as e:\n",
        "        print(f'Failed to load (likely expired) {download_url} to path {destination_path}')\n",
        "        continue\n",
        "    except OSError as e:\n",
        "        print(f'Failed to load {download_url} to path {destination_path}')\n",
        "        continue\n",
        "\n",
        "print('Data source import complete.')\n"
      ]
    },
    {
      "cell_type": "markdown",
      "metadata": {
        "id": "SQL3CIErCphz"
      },
      "source": [
        "### PRE-PROCESSING"
      ]
    },
    {
      "cell_type": "code",
      "execution_count": null,
      "metadata": {
        "id": "6Wx31E6cBshE"
      },
      "outputs": [],
      "source": [
        "DATA_ROOT = '/kaggle/input/chest-xray-pneumonia/chest_xray'\n",
        "\n",
        "DATA_TRAIN = os.path.join(DATA_ROOT, \"train\")\n",
        "DATA_VALID = os.path.join(DATA_ROOT, \"val\")\n",
        "DATA_TEST  = os.path.join(DATA_ROOT, \"test\")\n",
        "\n",
        "LABELS = ['NORMAL', 'PNEUMONIA']\n",
        "IMAGE_SIZE = (224, 224)\n",
        "PATCH_SIZE = 16\n",
        "BATCH_SIZE = 32"
      ]
    },
    {
      "cell_type": "code",
      "execution_count": null,
      "metadata": {
        "id": "He5vcOVXCsKT"
      },
      "outputs": [],
      "source": [
        "def get_datasource(*data_dirs, flag=cv2.IMREAD_GRAYSCALE):\n",
        "    x, y = list(), list()\n",
        "    for data_dir in data_dirs:\n",
        "        for i, label in enumerate(LABELS):\n",
        "            path = os.path.join(data_dir, label)\n",
        "            target = [0] * len(LABELS)\n",
        "            target[i] = 1\n",
        "            for img in os.listdir(path):\n",
        "                if img.endswith(\".jpeg\"):\n",
        "                    img_arr = cv2.imread(os.path.join(path, img), flag)\n",
        "                    resized_arr = cv2.resize(img_arr, IMAGE_SIZE)\n",
        "                    x.append(resized_arr)\n",
        "                    y.append(target)\n",
        "    return np.array(x) / 255, np.array(y)"
      ]
    },
    {
      "cell_type": "code",
      "execution_count": null,
      "metadata": {
        "id": "v63VdiKMCt3Q"
      },
      "outputs": [],
      "source": [
        "x_train, y_train = get_datasource(DATA_TRAIN, DATA_VALID)\n",
        "x_test, y_test = get_datasource(DATA_TEST)\n",
        "\n",
        "x_train = np.expand_dims(x_train, axis=-1)\n",
        "x_test  = np.expand_dims(x_test, axis=-1)"
      ]
    },
    {
      "cell_type": "markdown",
      "metadata": {
        "id": "A1uDj3wZPtZn"
      },
      "source": [
        "### DATASET 2"
      ]
    },
    {
      "cell_type": "code",
      "execution_count": null,
      "metadata": {
        "colab": {
          "background_save": true,
          "base_uri": "https://localhost:8080/",
          "height": 150,
          "referenced_widgets": [
            "dc5207ca4940486cbb1413d41eb6be33",
            "1661f1df752c4f5e864b7b0f147470fb",
            "ad49eae9e2384becb404cc06724a722f",
            "f7ec94fdff74409aa064e291fdde6d44",
            "8d453f2614854ec684d228d548275b88",
            "05aee0f0d0c1438a858fbea42d9446f4",
            "f4f8197a3b1448c7b0ac3475ba151d45",
            "897141f34bda46cdb623594995ca248f",
            "e5a04dbeba864b8dac5b9684cfd9a44f",
            "f5bd0c862c844f7e87654900dca357d9",
            "21af24900add43ff8b898ffba4165c86",
            "260b2d7f934e4fd0b47c5f74a82ffcf6",
            "7d560f9f758f4cbd97ae69938e210719",
            "78d9124d73064eb0b9869fa6e7c37eaa",
            "b88580607cd843f9a52d5d5601a6e08d",
            "e11c33d9ad10496e8615d9f674cb2e48",
            "f3638c4c9b3f45dd81adb6846f0ff53d",
            "15c80ae458fe494ab12a78e669bfc9de",
            "43f058c9ccd649e2abc05bea39d295f1",
            "12b29852cb48452a8cf1d0c5812b4ef1",
            "a9f2fe20e89e4143a37a2289996cdb49",
            "b81b62e1f8894d5eb9e12daeaf224175",
            "67b7b83db9454596a1bd157ee81c4656",
            "d87a41f46e7d4a2ca96c0ab3adc9399f",
            "dba5db0fabdd475796508ba26245ba00",
            "633c7c7456ec4921a1614dcc1f213819",
            "c4eac411823b4d02af3800fdca57f992",
            "1a32c23771b24651bdc33230c822e203",
            "95d64fa9e7284afea2ce68e075a890a3",
            "657494670caf4b4aa53b6afbc2ceff3b",
            "a53944f23e094c80b7b703f00135faad",
            "a98acf3fdfbd45819f35de2e9b042431",
            "64e410626b5147d8b4aee32ab9e75a7b"
          ]
        },
        "id": "mQImx4qHPvRi",
        "outputId": "d1b530a6-436e-4378-e574-45cd72a3782a"
      },
      "outputs": [
        {
          "name": "stdout",
          "output_type": "stream",
          "text": [
            "Downloading and preparing dataset 565.11 GiB (download: 565.11 GiB, generated: Unknown size, total: 565.11 GiB) to /root/tensorflow_datasets/open_images_v4/original/2.0.0...\n"
          ]
        },
        {
          "data": {
            "application/vnd.jupyter.widget-view+json": {
              "model_id": "dc5207ca4940486cbb1413d41eb6be33",
              "version_major": 2,
              "version_minor": 0
            },
            "text/plain": [
              "Dl Completed...: 0 url [00:00, ? url/s]"
            ]
          },
          "metadata": {},
          "output_type": "display_data"
        },
        {
          "data": {
            "application/vnd.jupyter.widget-view+json": {
              "model_id": "260b2d7f934e4fd0b47c5f74a82ffcf6",
              "version_major": 2,
              "version_minor": 0
            },
            "text/plain": [
              "Dl Size...: 0 MiB [00:00, ? MiB/s]"
            ]
          },
          "metadata": {},
          "output_type": "display_data"
        },
        {
          "data": {
            "application/vnd.jupyter.widget-view+json": {
              "model_id": "67b7b83db9454596a1bd157ee81c4656",
              "version_major": 2,
              "version_minor": 0
            },
            "text/plain": [
              "Extraction completed...: 0 file [00:00, ? file/s]"
            ]
          },
          "metadata": {},
          "output_type": "display_data"
        }
      ],
      "source": [
        "import tensorflow as tf\n",
        "import tensorflow_datasets as tfds\n",
        "\n",
        "# Configurazione per il download del dataset Open Images V4\n",
        "config = tfds.download.DownloadConfig(manual_dir='/path/to/manual/dataset')\n",
        "\n",
        "# Caricamento del dataset Open Images V4\n",
        "# Questo passaggio potrebbe richiedere molto tempo e spazio su disco a seconda delle dimensioni del subset che stai scaricando\n",
        "dataset, info = tfds.load('open_images_v4', with_info=True, download_and_prepare_kwargs={'download_config': config})\n",
        "\n",
        "# Stampa delle informazioni sul dataset\n",
        "print(info)\n"
      ]
    },
    {
      "cell_type": "markdown",
      "metadata": {
        "id": "Loch7M4iDHnq"
      },
      "source": [
        "### EFFICIENT NET B0 MODEL"
      ]
    },
    {
      "cell_type": "code",
      "execution_count": null,
      "metadata": {
        "colab": {
          "base_uri": "https://localhost:8080/"
        },
        "id": "b83tzkTJDGr5",
        "outputId": "4fbb923e-42cc-4ea8-f4ef-d4be271076ef"
      },
      "outputs": [
        {
          "name": "stdout",
          "output_type": "stream",
          "text": [
            "Downloading data from https://storage.googleapis.com/keras-applications/efficientnetb0_notop.h5\n",
            "16705208/16705208 [==============================] - 2s 0us/step\n"
          ]
        }
      ],
      "source": [
        "import tensorflow as tf\n",
        "from tensorflow.keras import layers, models\n",
        "\n",
        "# Carica il modello EfficientNetB0 preaddestrato senza il top layer (layer di output)\n",
        "base_model = tf.keras.applications.EfficientNetB0(include_top=False, weights='imagenet', input_shape=(224, 224, 3))  # Assicurati che input_shape sia (224, 224, 3)\n"
      ]
    },
    {
      "cell_type": "code",
      "execution_count": null,
      "metadata": {
        "id": "HUiNLUlSCvpa"
      },
      "outputs": [],
      "source": [
        "# Crea il modello aggiungendo nuovi layer\n",
        "model = models.Sequential([\n",
        "    layers.Input(shape=(224, 224, 1)),  # L'input originale è in scala di grigi\n",
        "    layers.Lambda(lambda x: tf.image.grayscale_to_rgb(x)),  # Converte in RGB duplicando i canali\n",
        "    base_model,\n",
        "    layers.GlobalAveragePooling2D(),\n",
        "    layers.Dense(128, activation='relu'),\n",
        "    layers.Dropout(0.2),\n",
        "    layers.Dense(len(LABELS), activation='softmax')  # len(LABELS) corrisponde al numero di classi\n",
        "])"
      ]
    },
    {
      "cell_type": "code",
      "execution_count": null,
      "metadata": {
        "colab": {
          "base_uri": "https://localhost:8080/"
        },
        "id": "yFjKhfhQDSkJ",
        "outputId": "79161d66-7c93-4a71-f314-1da12199986c"
      },
      "outputs": [
        {
          "name": "stdout",
          "output_type": "stream",
          "text": [
            "Model: \"sequential\"\n",
            "_________________________________________________________________\n",
            " Layer (type)                Output Shape              Param #   \n",
            "=================================================================\n",
            " lambda (Lambda)             (None, 224, 224, 3)       0         \n",
            "                                                                 \n",
            " efficientnetb0 (Functional  (None, 7, 7, 1280)        4049571   \n",
            " )                                                               \n",
            "                                                                 \n",
            " global_average_pooling2d (  (None, 1280)              0         \n",
            " GlobalAveragePooling2D)                                         \n",
            "                                                                 \n",
            " dense (Dense)               (None, 128)               163968    \n",
            "                                                                 \n",
            " dropout (Dropout)           (None, 128)               0         \n",
            "                                                                 \n",
            " dense_1 (Dense)             (None, 2)                 258       \n",
            "                                                                 \n",
            "=================================================================\n",
            "Total params: 4213797 (16.07 MB)\n",
            "Trainable params: 4171774 (15.91 MB)\n",
            "Non-trainable params: 42023 (164.16 KB)\n",
            "_________________________________________________________________\n"
          ]
        }
      ],
      "source": [
        "# Compila il modello\n",
        "model.compile(optimizer='adam', loss='categorical_crossentropy', metrics=['accuracy'])\n",
        "\n",
        "# Stampa il sommario del modello per controllare la sua architettura\n",
        "model.summary()\n"
      ]
    },
    {
      "cell_type": "code",
      "execution_count": null,
      "metadata": {
        "colab": {
          "base_uri": "https://localhost:8080/"
        },
        "id": "TX6p5r9zDUD8",
        "outputId": "c2b3a693-aacb-4f3e-ca76-48e9534c61ec"
      },
      "outputs": [
        {
          "name": "stdout",
          "output_type": "stream",
          "text": [
            "Epoch 1/15\n",
            "164/164 [==============================] - ETA: 0s - loss: 0.1173 - accuracy: 0.9528"
          ]
        },
        {
          "name": "stderr",
          "output_type": "stream",
          "text": [
            "/usr/local/lib/python3.10/dist-packages/keras/src/engine/training.py:3103: UserWarning: You are saving your model as an HDF5 file via `model.save()`. This file format is considered legacy. We recommend using instead the native Keras format, e.g. `model.save('my_model.keras')`.\n",
            "  saving_api.save_model(\n"
          ]
        },
        {
          "name": "stdout",
          "output_type": "stream",
          "text": [
            "\b\b\b\b\b\b\b\b\b\b\b\b\b\b\b\b\b\b\b\b\b\b\b\b\b\b\b\b\b\b\b\b\b\b\b\b\b\b\b\b\b\b\b\b\b\b\b\b\b\b\b\b\b\b\b\b\b\b\b\b\b\b\b\b\b\b\b\b\b\b\b\b\b\b\b\b\b\b\b\b\b\b\b\b\r164/164 [==============================] - 92s 280ms/step - loss: 0.1173 - accuracy: 0.9528 - val_loss: 1.6399 - val_accuracy: 0.6250\n",
            "Epoch 2/15\n",
            "164/164 [==============================] - 42s 255ms/step - loss: 0.0664 - accuracy: 0.9759 - val_loss: 6.4260 - val_accuracy: 0.6250\n",
            "Epoch 3/15\n",
            "164/164 [==============================] - 42s 257ms/step - loss: 0.0407 - accuracy: 0.9855 - val_loss: 4.6082 - val_accuracy: 0.6250\n",
            "Epoch 4/15\n",
            "164/164 [==============================] - 42s 255ms/step - loss: 0.0292 - accuracy: 0.9910 - val_loss: 2.7916 - val_accuracy: 0.6250\n",
            "Epoch 5/15\n",
            "164/164 [==============================] - 42s 255ms/step - loss: 0.0241 - accuracy: 0.9922 - val_loss: 1.8103 - val_accuracy: 0.6250\n",
            "Epoch 6/15\n",
            "164/164 [==============================] - 42s 256ms/step - loss: 0.0326 - accuracy: 0.9891 - val_loss: 3.1148 - val_accuracy: 0.6250\n",
            "Epoch 7/15\n",
            "164/164 [==============================] - 42s 257ms/step - loss: 0.0193 - accuracy: 0.9935 - val_loss: 43.6053 - val_accuracy: 0.6250\n",
            "Epoch 8/15\n",
            "164/164 [==============================] - 42s 255ms/step - loss: 0.0172 - accuracy: 0.9933 - val_loss: 4.0282 - val_accuracy: 0.3750\n",
            "Epoch 9/15\n",
            "164/164 [==============================] - 42s 255ms/step - loss: 0.0243 - accuracy: 0.9912 - val_loss: 12.5681 - val_accuracy: 0.6250\n",
            "Epoch 10/15\n",
            "164/164 [==============================] - 42s 257ms/step - loss: 0.0128 - accuracy: 0.9948 - val_loss: 10.7697 - val_accuracy: 0.6250\n",
            "Epoch 11/15\n",
            "164/164 [==============================] - 42s 257ms/step - loss: 0.0065 - accuracy: 0.9981 - val_loss: 5.9648 - val_accuracy: 0.6250\n"
          ]
        }
      ],
      "source": [
        "history_model = model.fit(\n",
        "    x_train, y_train,\n",
        "    epochs= 15,\n",
        "    batch_size= BATCH_SIZE,\n",
        "    validation_data=(x_test, y_test),\n",
        "    callbacks=[checkpoint_cb, early_stopping_cb]\n",
        ")"
      ]
    },
    {
      "cell_type": "markdown",
      "metadata": {
        "id": "lzcYWqCLFkhD"
      },
      "source": [
        "### EFFICIENT NET B0 CON LORA"
      ]
    },
    {
      "cell_type": "code",
      "execution_count": null,
      "metadata": {
        "id": "j5FAPzovFn5y"
      },
      "outputs": [],
      "source": [
        "import tensorflow as tf\n",
        "from tensorflow.keras import layers, models\n",
        "\n",
        "class LoRADenseLayer(layers.Layer):\n",
        "    def __init__(self, units, rank, activation=None, **kwargs):\n",
        "        super(LoRADenseLayer, self).__init__(**kwargs)\n",
        "        self.units = units\n",
        "        self.rank = rank\n",
        "        self.activation = tf.keras.activations.get(activation)\n",
        "\n",
        "    def build(self, input_shape):\n",
        "        # Pesi originali del layer Dense\n",
        "        self.w = self.add_weight(shape=(input_shape[-1], self.units),\n",
        "                                 initializer='glorot_uniform',\n",
        "                                 trainable=True)\n",
        "\n",
        "        # Matrici LoRA\n",
        "        self.A = self.add_weight(shape=(input_shape[-1], self.rank),\n",
        "                                 initializer='glorot_uniform',\n",
        "                                 trainable=True)\n",
        "        self.B = self.add_weight(shape=(self.rank, self.units),\n",
        "                                 initializer='glorot_uniform',\n",
        "                                 trainable=True)\n",
        "\n",
        "    def call(self, inputs):\n",
        "        # Calcolo originale + modifica LoRA\n",
        "        z = tf.matmul(inputs, self.w) + tf.matmul(inputs, self.A @ self.B)\n",
        "        return self.activation(z) if self.activation is not None else z\n",
        "\n",
        "\n"
      ]
    },
    {
      "cell_type": "code",
      "execution_count": null,
      "metadata": {
        "colab": {
          "base_uri": "https://localhost:8080/"
        },
        "id": "cwMzBczFFtQw",
        "outputId": "e9a5bc7d-4101-4e1d-f110-11db916407ad"
      },
      "outputs": [
        {
          "name": "stdout",
          "output_type": "stream",
          "text": [
            "Model: \"sequential_1\"\n",
            "_________________________________________________________________\n",
            " Layer (type)                Output Shape              Param #   \n",
            "=================================================================\n",
            " lambda_1 (Lambda)           (None, 224, 224, 3)       0         \n",
            "                                                                 \n",
            " efficientnetb0 (Functional  (None, 7, 7, 1280)        4049571   \n",
            " )                                                               \n",
            "                                                                 \n",
            " global_average_pooling2d_1  (None, 1280)              0         \n",
            "  (GlobalAveragePooling2D)                                       \n",
            "                                                                 \n",
            " lo_ra_dense_layer (LoRADen  (None, 128)               208896    \n",
            " seLayer)                                                        \n",
            "                                                                 \n",
            " dropout_1 (Dropout)         (None, 128)               0         \n",
            "                                                                 \n",
            " lo_ra_dense_layer_1 (LoRAD  (None, 2)                 2336      \n",
            " enseLayer)                                                      \n",
            "                                                                 \n",
            "=================================================================\n",
            "Total params: 4260803 (16.25 MB)\n",
            "Trainable params: 4218780 (16.09 MB)\n",
            "Non-trainable params: 42023 (164.16 KB)\n",
            "_________________________________________________________________\n"
          ]
        }
      ],
      "source": [
        "model_with_lora = models.Sequential([\n",
        "    layers.Input(shape=(224, 224, 1)),\n",
        "    layers.Lambda(lambda x: tf.image.grayscale_to_rgb(x)),\n",
        "    base_model,\n",
        "    layers.GlobalAveragePooling2D(),\n",
        "    LoRADenseLayer(128, rank=32, activation='relu'),  # Layer Dense con LoRA\n",
        "    layers.Dropout(0.2),\n",
        "    LoRADenseLayer(len(LABELS), rank=16, activation='softmax')  # Layer di output con LoRA\n",
        "])\n",
        "\n",
        "# Compilazione e sommario del modello\n",
        "model_with_lora.compile(optimizer='adam', loss='categorical_crossentropy', metrics=['accuracy'])\n",
        "model_with_lora.summary()"
      ]
    },
    {
      "cell_type": "code",
      "execution_count": null,
      "metadata": {
        "colab": {
          "base_uri": "https://localhost:8080/"
        },
        "id": "B3jzl2TdGL2Y",
        "outputId": "c1f9202a-794e-4050-a12f-fa0c23cc9e0c"
      },
      "outputs": [
        {
          "name": "stdout",
          "output_type": "stream",
          "text": [
            "Epoch 1/15\n",
            "164/164 [==============================] - 80s 277ms/step - loss: 0.0734 - accuracy: 0.9774 - val_loss: 5.6762 - val_accuracy: 0.6250\n",
            "Epoch 2/15\n",
            "164/164 [==============================] - 42s 258ms/step - loss: 0.0657 - accuracy: 0.9780 - val_loss: 11.5907 - val_accuracy: 0.6250\n",
            "Epoch 3/15\n",
            "164/164 [==============================] - 42s 256ms/step - loss: 0.0444 - accuracy: 0.9841 - val_loss: 2.1249 - val_accuracy: 0.6250\n",
            "Epoch 4/15\n",
            "164/164 [==============================] - 42s 256ms/step - loss: 0.0363 - accuracy: 0.9870 - val_loss: 2.2575 - val_accuracy: 0.6250\n",
            "Epoch 5/15\n",
            "164/164 [==============================] - 42s 256ms/step - loss: 0.0202 - accuracy: 0.9929 - val_loss: 3.7605 - val_accuracy: 0.6250\n",
            "Epoch 6/15\n",
            "164/164 [==============================] - 42s 255ms/step - loss: 0.0264 - accuracy: 0.9899 - val_loss: 25.4143 - val_accuracy: 0.6250\n",
            "Epoch 7/15\n",
            "164/164 [==============================] - 42s 256ms/step - loss: 0.0171 - accuracy: 0.9935 - val_loss: 180.0134 - val_accuracy: 0.6250\n",
            "Epoch 8/15\n",
            "164/164 [==============================] - 42s 257ms/step - loss: 0.0148 - accuracy: 0.9946 - val_loss: 10.8023 - val_accuracy: 0.6250\n",
            "Epoch 9/15\n",
            "164/164 [==============================] - 42s 255ms/step - loss: 0.0145 - accuracy: 0.9952 - val_loss: 24.9196 - val_accuracy: 0.6250\n",
            "Epoch 10/15\n",
            "164/164 [==============================] - 42s 256ms/step - loss: 0.0236 - accuracy: 0.9935 - val_loss: 10.5225 - val_accuracy: 0.6250\n",
            "Epoch 11/15\n",
            "164/164 [==============================] - 42s 257ms/step - loss: 0.0103 - accuracy: 0.9958 - val_loss: 9.2921 - val_accuracy: 0.6250\n"
          ]
        }
      ],
      "source": [
        "history_model_with_lora = model_with_lora.fit(\n",
        "    x_train, y_train,\n",
        "    epochs= 15,\n",
        "    batch_size= BATCH_SIZE,\n",
        "    validation_data=(x_test, y_test),\n",
        "    callbacks=[checkpoint_cb, early_stopping_cb]\n",
        ")"
      ]
    },
    {
      "cell_type": "markdown",
      "metadata": {
        "id": "qC3JYg2BIeOP"
      },
      "source": [
        "### compare two model"
      ]
    },
    {
      "cell_type": "code",
      "execution_count": null,
      "metadata": {
        "colab": {
          "base_uri": "https://localhost:8080/",
          "height": 291
        },
        "id": "HqOTP75jIgOS",
        "outputId": "d747716d-a547-4744-ddf6-42a5e8ee2884"
      },
      "outputs": [
        {
          "data": {
            "image/png": "[encoded data removed]",
            "text/plain": [
              "<Figure size 1400x600 with 2 Axes>"
            ]
          },
          "metadata": {},
          "output_type": "display_data"
        }
      ],
      "source": [
        "import matplotlib.pyplot as plt\n",
        "\n",
        "def compare_models(history_model, history_model_with_lora, title1='efficient-net', title2='efficient-net + LOrA'):\n",
        "    acc1 = history_model.history['accuracy']\n",
        "    val_acc1 = history_model.history['val_accuracy']\n",
        "    loss1 = history_model.history['loss']\n",
        "    val_loss1 = history_model.history['val_loss']\n",
        "\n",
        "    acc2 = history_model_with_lora.history['accuracy']\n",
        "    val_acc2 = history_model_with_lora.history['val_accuracy']\n",
        "    loss2 = history_model_with_lora.history['loss']\n",
        "    val_loss2 = history_model_with_lora.history['val_loss']\n",
        "\n",
        "    epochs = range(1, len(acc1) + 1)\n",
        "\n",
        "    plt.figure(figsize=(14, 6))\n",
        "\n",
        "    # Accuracy Plot\n",
        "    plt.subplot(1, 2, 1)\n",
        "    plt.plot(epochs, acc1, label=f'{title1} Training Acc')\n",
        "    plt.plot(epochs, val_acc1, label=f'{title1} Validation Acc')\n",
        "    plt.plot(epochs, acc2, label=f'{title2} Training Acc', linestyle='--')\n",
        "    plt.plot(epochs, val_acc2, label=f'{title2} Validation Acc', linestyle='--')\n",
        "    plt.title('Training and Validation Accuracy Comparison')\n",
        "    plt.xlabel('Epochs')\n",
        "    plt.ylabel('Accuracy')\n",
        "    plt.legend()\n",
        "\n",
        "    # Loss Plot\n",
        "    plt.subplot(1, 2, 2)\n",
        "    plt.plot(epochs, loss1, label=f'{title1} Training Loss')\n",
        "    plt.plot(epochs, val_loss1, label=f'{title1} Validation Loss')\n",
        "    plt.plot(epochs, loss2, label=f'{title2} Training Loss', linestyle='--')\n",
        "    plt.plot(epochs, val_loss2, label=f'{title2} Validation Loss', linestyle='--')\n",
        "    plt.title('Training and Validation Loss Comparison')\n",
        "    plt.xlabel('Epochs')\n",
        "    plt.ylabel('Loss')\n",
        "    plt.legend()\n",
        "\n",
        "    plt.tight_layout()\n",
        "    plt.show()\n",
        "\n",
        "# Usiamo le history dei due modelli per fare il plot\n",
        "compare_models(history_model, history_model_with_lora, 'EfficientNet', 'EfficientNet + LoRA')\n"
      ]
    }
  ],
  "metadata": {
    "accelerator": "GPU",
    "colab": {
      "provenance": []
    },
    "kernelspec": {
      "display_name": "Python 3",
      "name": "python3"
    },
    "language_info": {
      "name": "python"
    },
    "widgets": {
      "application/vnd.jupyter.widget-state+json": {
        "05aee0f0d0c1438a858fbea42d9446f4": {
          "model_module": "@jupyter-widgets/base",
          "model_module_version": "1.2.0",
          "model_name": "LayoutModel",
          "state": {
            "_model_module": "@jupyter-widgets/base",
            "_model_module_version": "1.2.0",
            "_model_name": "LayoutModel",
            "_view_count": null,
            "_view_module": "@jupyter-widgets/base",
            "_view_module_version": "1.2.0",
            "_view_name": "LayoutView",
            "align_content": null,
            "align_items": null,
            "align_self": null,
            "border": null,
            "bottom": null,
            "display": null,
            "flex": null,
            "flex_flow": null,
            "grid_area": null,
            "grid_auto_columns": null,
            "grid_auto_flow": null,
            "grid_auto_rows": null,
            "grid_column": null,
            "grid_gap": null,
            "grid_row": null,
            "grid_template_areas": null,
            "grid_template_columns": null,
            "grid_template_rows": null,
            "height": null,
            "justify_content": null,
            "justify_items": null,
            "left": null,
            "margin": null,
            "max_height": null,
            "max_width": null,
            "min_height": null,
            "min_width": null,
            "object_fit": null,
            "object_position": null,
            "order": null,
            "overflow": null,
            "overflow_x": null,
            "overflow_y": null,
            "padding": null,
            "right": null,
            "top": null,
            "visibility": null,
            "width": null
          }
        },
        "12b29852cb48452a8cf1d0c5812b4ef1": {
          "model_module": "@jupyter-widgets/controls",
          "model_module_version": "1.5.0",
          "model_name": "ProgressStyleModel",
          "state": {
            "_model_module": "@jupyter-widgets/controls",
            "_model_module_version": "1.5.0",
            "_model_name": "ProgressStyleModel",
            "_view_count": null,
            "_view_module": "@jupyter-widgets/base",
            "_view_module_version": "1.2.0",
            "_view_name": "StyleView",
            "bar_color": null,
            "description_width": ""
          }
        },
        "15c80ae458fe494ab12a78e669bfc9de": {
          "model_module": "@jupyter-widgets/controls",
          "model_module_version": "1.5.0",
          "model_name": "DescriptionStyleModel",
          "state": {
            "_model_module": "@jupyter-widgets/controls",
            "_model_module_version": "1.5.0",
            "_model_name": "DescriptionStyleModel",
            "_view_count": null,
            "_view_module": "@jupyter-widgets/base",
            "_view_module_version": "1.2.0",
            "_view_name": "StyleView",
            "description_width": ""
          }
        },
        "1661f1df752c4f5e864b7b0f147470fb": {
          "model_module": "@jupyter-widgets/controls",
          "model_module_version": "1.5.0",
          "model_name": "HTMLModel",
          "state": {
            "_dom_classes": [],
            "_model_module": "@jupyter-widgets/controls",
            "_model_module_version": "1.5.0",
            "_model_name": "HTMLModel",
            "_view_count": null,
            "_view_module": "@jupyter-widgets/controls",
            "_view_module_version": "1.5.0",
            "_view_name": "HTMLView",
            "description": "",
            "description_tooltip": null,
            "layout": "IPY_MODEL_05aee0f0d0c1438a858fbea42d9446f4",
            "placeholder": "​",
            "style": "IPY_MODEL_f4f8197a3b1448c7b0ac3475ba151d45",
            "value": "Dl Completed...:  11%"
          }
        },
        "1a32c23771b24651bdc33230c822e203": {
          "model_module": "@jupyter-widgets/base",
          "model_module_version": "1.2.0",
          "model_name": "LayoutModel",
          "state": {
            "_model_module": "@jupyter-widgets/base",
            "_model_module_version": "1.2.0",
            "_model_name": "LayoutModel",
            "_view_count": null,
            "_view_module": "@jupyter-widgets/base",
            "_view_module_version": "1.2.0",
            "_view_name": "LayoutView",
            "align_content": null,
            "align_items": null,
            "align_self": null,
            "border": null,
            "bottom": null,
            "display": null,
            "flex": null,
            "flex_flow": null,
            "grid_area": null,
            "grid_auto_columns": null,
            "grid_auto_flow": null,
            "grid_auto_rows": null,
            "grid_column": null,
            "grid_gap": null,
            "grid_row": null,
            "grid_template_areas": null,
            "grid_template_columns": null,
            "grid_template_rows": null,
            "height": null,
            "justify_content": null,
            "justify_items": null,
            "left": null,
            "margin": null,
            "max_height": null,
            "max_width": null,
            "min_height": null,
            "min_width": null,
            "object_fit": null,
            "object_position": null,
            "order": null,
            "overflow": null,
            "overflow_x": null,
            "overflow_y": null,
            "padding": null,
            "right": null,
            "top": null,
            "visibility": null,
            "width": null
          }
        },
        "21af24900add43ff8b898ffba4165c86": {
          "model_module": "@jupyter-widgets/controls",
          "model_module_version": "1.5.0",
          "model_name": "DescriptionStyleModel",
          "state": {
            "_model_module": "@jupyter-widgets/controls",
            "_model_module_version": "1.5.0",
            "_model_name": "DescriptionStyleModel",
            "_view_count": null,
            "_view_module": "@jupyter-widgets/base",
            "_view_module_version": "1.2.0",
            "_view_name": "StyleView",
            "description_width": ""
          }
        },
        "260b2d7f934e4fd0b47c5f74a82ffcf6": {
          "model_module": "@jupyter-widgets/controls",
          "model_module_version": "1.5.0",
          "model_name": "HBoxModel",
          "state": {
            "_dom_classes": [],
            "_model_module": "@jupyter-widgets/controls",
            "_model_module_version": "1.5.0",
            "_model_name": "HBoxModel",
            "_view_count": null,
            "_view_module": "@jupyter-widgets/controls",
            "_view_module_version": "1.5.0",
            "_view_name": "HBoxView",
            "box_style": "",
            "children": [
              "IPY_MODEL_7d560f9f758f4cbd97ae69938e210719",
              "IPY_MODEL_78d9124d73064eb0b9869fa6e7c37eaa",
              "IPY_MODEL_b88580607cd843f9a52d5d5601a6e08d"
            ],
            "layout": "IPY_MODEL_e11c33d9ad10496e8615d9f674cb2e48"
          }
        },
        "43f058c9ccd649e2abc05bea39d295f1": {
          "model_module": "@jupyter-widgets/base",
          "model_module_version": "1.2.0",
          "model_name": "LayoutModel",
          "state": {
            "_model_module": "@jupyter-widgets/base",
            "_model_module_version": "1.2.0",
            "_model_name": "LayoutModel",
            "_view_count": null,
            "_view_module": "@jupyter-widgets/base",
            "_view_module_version": "1.2.0",
            "_view_name": "LayoutView",
            "align_content": null,
            "align_items": null,
            "align_self": null,
            "border": null,
            "bottom": null,
            "display": null,
            "flex": null,
            "flex_flow": null,
            "grid_area": null,
            "grid_auto_columns": null,
            "grid_auto_flow": null,
            "grid_auto_rows": null,
            "grid_column": null,
            "grid_gap": null,
            "grid_row": null,
            "grid_template_areas": null,
            "grid_template_columns": null,
            "grid_template_rows": null,
            "height": null,
            "justify_content": null,
            "justify_items": null,
            "left": null,
            "margin": null,
            "max_height": null,
            "max_width": null,
            "min_height": null,
            "min_width": null,
            "object_fit": null,
            "object_position": null,
            "order": null,
            "overflow": null,
            "overflow_x": null,
            "overflow_y": null,
            "padding": null,
            "right": null,
            "top": null,
            "visibility": null,
            "width": "20px"
          }
        },
        "633c7c7456ec4921a1614dcc1f213819": {
          "model_module": "@jupyter-widgets/controls",
          "model_module_version": "1.5.0",
          "model_name": "HTMLModel",
          "state": {
            "_dom_classes": [],
            "_model_module": "@jupyter-widgets/controls",
            "_model_module_version": "1.5.0",
            "_model_name": "HTMLModel",
            "_view_count": null,
            "_view_module": "@jupyter-widgets/controls",
            "_view_module_version": "1.5.0",
            "_view_name": "HTMLView",
            "description": "",
            "description_tooltip": null,
            "layout": "IPY_MODEL_a98acf3fdfbd45819f35de2e9b042431",
            "placeholder": "​",
            "style": "IPY_MODEL_64e410626b5147d8b4aee32ab9e75a7b",
            "value": " 0/0 [00:30&lt;?, ? file/s]"
          }
        },
        "64e410626b5147d8b4aee32ab9e75a7b": {
          "model_module": "@jupyter-widgets/controls",
          "model_module_version": "1.5.0",
          "model_name": "DescriptionStyleModel",
          "state": {
            "_model_module": "@jupyter-widgets/controls",
            "_model_module_version": "1.5.0",
            "_model_name": "DescriptionStyleModel",
            "_view_count": null,
            "_view_module": "@jupyter-widgets/base",
            "_view_module_version": "1.2.0",
            "_view_name": "StyleView",
            "description_width": ""
          }
        },
        "657494670caf4b4aa53b6afbc2ceff3b": {
          "model_module": "@jupyter-widgets/base",
          "model_module_version": "1.2.0",
          "model_name": "LayoutModel",
          "state": {
            "_model_module": "@jupyter-widgets/base",
            "_model_module_version": "1.2.0",
            "_model_name": "LayoutModel",
            "_view_count": null,
            "_view_module": "@jupyter-widgets/base",
            "_view_module_version": "1.2.0",
            "_view_name": "LayoutView",
            "align_content": null,
            "align_items": null,
            "align_self": null,
            "border": null,
            "bottom": null,
            "display": null,
            "flex": null,
            "flex_flow": null,
            "grid_area": null,
            "grid_auto_columns": null,
            "grid_auto_flow": null,
            "grid_auto_rows": null,
            "grid_column": null,
            "grid_gap": null,
            "grid_row": null,
            "grid_template_areas": null,
            "grid_template_columns": null,
            "grid_template_rows": null,
            "height": null,
            "justify_content": null,
            "justify_items": null,
            "left": null,
            "margin": null,
            "max_height": null,
            "max_width": null,
            "min_height": null,
            "min_width": null,
            "object_fit": null,
            "object_position": null,
            "order": null,
            "overflow": null,
            "overflow_x": null,
            "overflow_y": null,
            "padding": null,
            "right": null,
            "top": null,
            "visibility": null,
            "width": "20px"
          }
        },
        "67b7b83db9454596a1bd157ee81c4656": {
          "model_module": "@jupyter-widgets/controls",
          "model_module_version": "1.5.0",
          "model_name": "HBoxModel",
          "state": {
            "_dom_classes": [],
            "_model_module": "@jupyter-widgets/controls",
            "_model_module_version": "1.5.0",
            "_model_name": "HBoxModel",
            "_view_count": null,
            "_view_module": "@jupyter-widgets/controls",
            "_view_module_version": "1.5.0",
            "_view_name": "HBoxView",
            "box_style": "",
            "children": [
              "IPY_MODEL_d87a41f46e7d4a2ca96c0ab3adc9399f",
              "IPY_MODEL_dba5db0fabdd475796508ba26245ba00",
              "IPY_MODEL_633c7c7456ec4921a1614dcc1f213819"
            ],
            "layout": "IPY_MODEL_c4eac411823b4d02af3800fdca57f992"
          }
        },
        "78d9124d73064eb0b9869fa6e7c37eaa": {
          "model_module": "@jupyter-widgets/controls",
          "model_module_version": "1.5.0",
          "model_name": "FloatProgressModel",
          "state": {
            "_dom_classes": [],
            "_model_module": "@jupyter-widgets/controls",
            "_model_module_version": "1.5.0",
            "_model_name": "FloatProgressModel",
            "_view_count": null,
            "_view_module": "@jupyter-widgets/controls",
            "_view_module_version": "1.5.0",
            "_view_name": "ProgressView",
            "bar_style": "info",
            "description": "",
            "description_tooltip": null,
            "layout": "IPY_MODEL_43f058c9ccd649e2abc05bea39d295f1",
            "max": 1,
            "min": 0,
            "orientation": "horizontal",
            "style": "IPY_MODEL_12b29852cb48452a8cf1d0c5812b4ef1",
            "value": 1
          }
        },
        "7d560f9f758f4cbd97ae69938e210719": {
          "model_module": "@jupyter-widgets/controls",
          "model_module_version": "1.5.0",
          "model_name": "HTMLModel",
          "state": {
            "_dom_classes": [],
            "_model_module": "@jupyter-widgets/controls",
            "_model_module_version": "1.5.0",
            "_model_name": "HTMLModel",
            "_view_count": null,
            "_view_module": "@jupyter-widgets/controls",
            "_view_module_version": "1.5.0",
            "_view_name": "HTMLView",
            "description": "",
            "description_tooltip": null,
            "layout": "IPY_MODEL_f3638c4c9b3f45dd81adb6846f0ff53d",
            "placeholder": "​",
            "style": "IPY_MODEL_15c80ae458fe494ab12a78e669bfc9de",
            "value": "Dl Size...:   0%"
          }
        },
        "897141f34bda46cdb623594995ca248f": {
          "model_module": "@jupyter-widgets/base",
          "model_module_version": "1.2.0",
          "model_name": "LayoutModel",
          "state": {
            "_model_module": "@jupyter-widgets/base",
            "_model_module_version": "1.2.0",
            "_model_name": "LayoutModel",
            "_view_count": null,
            "_view_module": "@jupyter-widgets/base",
            "_view_module_version": "1.2.0",
            "_view_name": "LayoutView",
            "align_content": null,
            "align_items": null,
            "align_self": null,
            "border": null,
            "bottom": null,
            "display": null,
            "flex": null,
            "flex_flow": null,
            "grid_area": null,
            "grid_auto_columns": null,
            "grid_auto_flow": null,
            "grid_auto_rows": null,
            "grid_column": null,
            "grid_gap": null,
            "grid_row": null,
            "grid_template_areas": null,
            "grid_template_columns": null,
            "grid_template_rows": null,
            "height": null,
            "justify_content": null,
            "justify_items": null,
            "left": null,
            "margin": null,
            "max_height": null,
            "max_width": null,
            "min_height": null,
            "min_width": null,
            "object_fit": null,
            "object_position": null,
            "order": null,
            "overflow": null,
            "overflow_x": null,
            "overflow_y": null,
            "padding": null,
            "right": null,
            "top": null,
            "visibility": null,
            "width": "20px"
          }
        },
        "8d453f2614854ec684d228d548275b88": {
          "model_module": "@jupyter-widgets/base",
          "model_module_version": "1.2.0",
          "model_name": "LayoutModel",
          "state": {
            "_model_module": "@jupyter-widgets/base",
            "_model_module_version": "1.2.0",
            "_model_name": "LayoutModel",
            "_view_count": null,
            "_view_module": "@jupyter-widgets/base",
            "_view_module_version": "1.2.0",
            "_view_name": "LayoutView",
            "align_content": null,
            "align_items": null,
            "align_self": null,
            "border": null,
            "bottom": null,
            "display": null,
            "flex": null,
            "flex_flow": null,
            "grid_area": null,
            "grid_auto_columns": null,
            "grid_auto_flow": null,
            "grid_auto_rows": null,
            "grid_column": null,
            "grid_gap": null,
            "grid_row": null,
            "grid_template_areas": null,
            "grid_template_columns": null,
            "grid_template_rows": null,
            "height": null,
            "justify_content": null,
            "justify_items": null,
            "left": null,
            "margin": null,
            "max_height": null,
            "max_width": null,
            "min_height": null,
            "min_width": null,
            "object_fit": null,
            "object_position": null,
            "order": null,
            "overflow": null,
            "overflow_x": null,
            "overflow_y": null,
            "padding": null,
            "right": null,
            "top": null,
            "visibility": null,
            "width": null
          }
        },
        "95d64fa9e7284afea2ce68e075a890a3": {
          "model_module": "@jupyter-widgets/controls",
          "model_module_version": "1.5.0",
          "model_name": "DescriptionStyleModel",
          "state": {
            "_model_module": "@jupyter-widgets/controls",
            "_model_module_version": "1.5.0",
            "_model_name": "DescriptionStyleModel",
            "_view_count": null,
            "_view_module": "@jupyter-widgets/base",
            "_view_module_version": "1.2.0",
            "_view_name": "StyleView",
            "description_width": ""
          }
        },
        "a53944f23e094c80b7b703f00135faad": {
          "model_module": "@jupyter-widgets/controls",
          "model_module_version": "1.5.0",
          "model_name": "ProgressStyleModel",
          "state": {
            "_model_module": "@jupyter-widgets/controls",
            "_model_module_version": "1.5.0",
            "_model_name": "ProgressStyleModel",
            "_view_count": null,
            "_view_module": "@jupyter-widgets/base",
            "_view_module_version": "1.2.0",
            "_view_name": "StyleView",
            "bar_color": null,
            "description_width": ""
          }
        },
        "a98acf3fdfbd45819f35de2e9b042431": {
          "model_module": "@jupyter-widgets/base",
          "model_module_version": "1.2.0",
          "model_name": "LayoutModel",
          "state": {
            "_model_module": "@jupyter-widgets/base",
            "_model_module_version": "1.2.0",
            "_model_name": "LayoutModel",
            "_view_count": null,
            "_view_module": "@jupyter-widgets/base",
            "_view_module_version": "1.2.0",
            "_view_name": "LayoutView",
            "align_content": null,
            "align_items": null,
            "align_self": null,
            "border": null,
            "bottom": null,
            "display": null,
            "flex": null,
            "flex_flow": null,
            "grid_area": null,
            "grid_auto_columns": null,
            "grid_auto_flow": null,
            "grid_auto_rows": null,
            "grid_column": null,
            "grid_gap": null,
            "grid_row": null,
            "grid_template_areas": null,
            "grid_template_columns": null,
            "grid_template_rows": null,
            "height": null,
            "justify_content": null,
            "justify_items": null,
            "left": null,
            "margin": null,
            "max_height": null,
            "max_width": null,
            "min_height": null,
            "min_width": null,
            "object_fit": null,
            "object_position": null,
            "order": null,
            "overflow": null,
            "overflow_x": null,
            "overflow_y": null,
            "padding": null,
            "right": null,
            "top": null,
            "visibility": null,
            "width": null
          }
        },
        "a9f2fe20e89e4143a37a2289996cdb49": {
          "model_module": "@jupyter-widgets/base",
          "model_module_version": "1.2.0",
          "model_name": "LayoutModel",
          "state": {
            "_model_module": "@jupyter-widgets/base",
            "_model_module_version": "1.2.0",
            "_model_name": "LayoutModel",
            "_view_count": null,
            "_view_module": "@jupyter-widgets/base",
            "_view_module_version": "1.2.0",
            "_view_name": "LayoutView",
            "align_content": null,
            "align_items": null,
            "align_self": null,
            "border": null,
            "bottom": null,
            "display": null,
            "flex": null,
            "flex_flow": null,
            "grid_area": null,
            "grid_auto_columns": null,
            "grid_auto_flow": null,
            "grid_auto_rows": null,
            "grid_column": null,
            "grid_gap": null,
            "grid_row": null,
            "grid_template_areas": null,
            "grid_template_columns": null,
            "grid_template_rows": null,
            "height": null,
            "justify_content": null,
            "justify_items": null,
            "left": null,
            "margin": null,
            "max_height": null,
            "max_width": null,
            "min_height": null,
            "min_width": null,
            "object_fit": null,
            "object_position": null,
            "order": null,
            "overflow": null,
            "overflow_x": null,
            "overflow_y": null,
            "padding": null,
            "right": null,
            "top": null,
            "visibility": null,
            "width": null
          }
        },
        "ad49eae9e2384becb404cc06724a722f": {
          "model_module": "@jupyter-widgets/controls",
          "model_module_version": "1.5.0",
          "model_name": "FloatProgressModel",
          "state": {
            "_dom_classes": [],
            "_model_module": "@jupyter-widgets/controls",
            "_model_module_version": "1.5.0",
            "_model_name": "FloatProgressModel",
            "_view_count": null,
            "_view_module": "@jupyter-widgets/controls",
            "_view_module_version": "1.5.0",
            "_view_name": "ProgressView",
            "bar_style": "info",
            "description": "",
            "description_tooltip": null,
            "layout": "IPY_MODEL_897141f34bda46cdb623594995ca248f",
            "max": 1,
            "min": 0,
            "orientation": "horizontal",
            "style": "IPY_MODEL_e5a04dbeba864b8dac5b9684cfd9a44f",
            "value": 1
          }
        },
        "b81b62e1f8894d5eb9e12daeaf224175": {
          "model_module": "@jupyter-widgets/controls",
          "model_module_version": "1.5.0",
          "model_name": "DescriptionStyleModel",
          "state": {
            "_model_module": "@jupyter-widgets/controls",
            "_model_module_version": "1.5.0",
            "_model_name": "DescriptionStyleModel",
            "_view_count": null,
            "_view_module": "@jupyter-widgets/base",
            "_view_module_version": "1.2.0",
            "_view_name": "StyleView",
            "description_width": ""
          }
        },
        "b88580607cd843f9a52d5d5601a6e08d": {
          "model_module": "@jupyter-widgets/controls",
          "model_module_version": "1.5.0",
          "model_name": "HTMLModel",
          "state": {
            "_dom_classes": [],
            "_model_module": "@jupyter-widgets/controls",
            "_model_module_version": "1.5.0",
            "_model_name": "HTMLModel",
            "_view_count": null,
            "_view_module": "@jupyter-widgets/controls",
            "_view_module_version": "1.5.0",
            "_view_name": "HTMLView",
            "description": "",
            "description_tooltip": null,
            "layout": "IPY_MODEL_a9f2fe20e89e4143a37a2289996cdb49",
            "placeholder": "​",
            "style": "IPY_MODEL_b81b62e1f8894d5eb9e12daeaf224175",
            "value": " 1220/578659 [00:30&lt;3:30:57, 45.62 MiB/s]"
          }
        },
        "c4eac411823b4d02af3800fdca57f992": {
          "model_module": "@jupyter-widgets/base",
          "model_module_version": "1.2.0",
          "model_name": "LayoutModel",
          "state": {
            "_model_module": "@jupyter-widgets/base",
            "_model_module_version": "1.2.0",
            "_model_name": "LayoutModel",
            "_view_count": null,
            "_view_module": "@jupyter-widgets/base",
            "_view_module_version": "1.2.0",
            "_view_name": "LayoutView",
            "align_content": null,
            "align_items": null,
            "align_self": null,
            "border": null,
            "bottom": null,
            "display": null,
            "flex": null,
            "flex_flow": null,
            "grid_area": null,
            "grid_auto_columns": null,
            "grid_auto_flow": null,
            "grid_auto_rows": null,
            "grid_column": null,
            "grid_gap": null,
            "grid_row": null,
            "grid_template_areas": null,
            "grid_template_columns": null,
            "grid_template_rows": null,
            "height": null,
            "justify_content": null,
            "justify_items": null,
            "left": null,
            "margin": null,
            "max_height": null,
            "max_width": null,
            "min_height": null,
            "min_width": null,
            "object_fit": null,
            "object_position": null,
            "order": null,
            "overflow": null,
            "overflow_x": null,
            "overflow_y": null,
            "padding": null,
            "right": null,
            "top": null,
            "visibility": null,
            "width": null
          }
        },
        "d87a41f46e7d4a2ca96c0ab3adc9399f": {
          "model_module": "@jupyter-widgets/controls",
          "model_module_version": "1.5.0",
          "model_name": "HTMLModel",
          "state": {
            "_dom_classes": [],
            "_model_module": "@jupyter-widgets/controls",
            "_model_module_version": "1.5.0",
            "_model_name": "HTMLModel",
            "_view_count": null,
            "_view_module": "@jupyter-widgets/controls",
            "_view_module_version": "1.5.0",
            "_view_name": "HTMLView",
            "description": "",
            "description_tooltip": null,
            "layout": "IPY_MODEL_1a32c23771b24651bdc33230c822e203",
            "placeholder": "​",
            "style": "IPY_MODEL_95d64fa9e7284afea2ce68e075a890a3",
            "value": "Extraction completed...: "
          }
        },
        "dba5db0fabdd475796508ba26245ba00": {
          "model_module": "@jupyter-widgets/controls",
          "model_module_version": "1.5.0",
          "model_name": "FloatProgressModel",
          "state": {
            "_dom_classes": [],
            "_model_module": "@jupyter-widgets/controls",
            "_model_module_version": "1.5.0",
            "_model_name": "FloatProgressModel",
            "_view_count": null,
            "_view_module": "@jupyter-widgets/controls",
            "_view_module_version": "1.5.0",
            "_view_name": "ProgressView",
            "bar_style": "info",
            "description": "",
            "description_tooltip": null,
            "layout": "IPY_MODEL_657494670caf4b4aa53b6afbc2ceff3b",
            "max": 1,
            "min": 0,
            "orientation": "horizontal",
            "style": "IPY_MODEL_a53944f23e094c80b7b703f00135faad",
            "value": 0
          }
        },
        "dc5207ca4940486cbb1413d41eb6be33": {
          "model_module": "@jupyter-widgets/controls",
          "model_module_version": "1.5.0",
          "model_name": "HBoxModel",
          "state": {
            "_dom_classes": [],
            "_model_module": "@jupyter-widgets/controls",
            "_model_module_version": "1.5.0",
            "_model_name": "HBoxModel",
            "_view_count": null,
            "_view_module": "@jupyter-widgets/controls",
            "_view_module_version": "1.5.0",
            "_view_name": "HBoxView",
            "box_style": "",
            "children": [
              "IPY_MODEL_1661f1df752c4f5e864b7b0f147470fb",
              "IPY_MODEL_ad49eae9e2384becb404cc06724a722f",
              "IPY_MODEL_f7ec94fdff74409aa064e291fdde6d44"
            ],
            "layout": "IPY_MODEL_8d453f2614854ec684d228d548275b88"
          }
        },
        "e11c33d9ad10496e8615d9f674cb2e48": {
          "model_module": "@jupyter-widgets/base",
          "model_module_version": "1.2.0",
          "model_name": "LayoutModel",
          "state": {
            "_model_module": "@jupyter-widgets/base",
            "_model_module_version": "1.2.0",
            "_model_name": "LayoutModel",
            "_view_count": null,
            "_view_module": "@jupyter-widgets/base",
            "_view_module_version": "1.2.0",
            "_view_name": "LayoutView",
            "align_content": null,
            "align_items": null,
            "align_self": null,
            "border": null,
            "bottom": null,
            "display": null,
            "flex": null,
            "flex_flow": null,
            "grid_area": null,
            "grid_auto_columns": null,
            "grid_auto_flow": null,
            "grid_auto_rows": null,
            "grid_column": null,
            "grid_gap": null,
            "grid_row": null,
            "grid_template_areas": null,
            "grid_template_columns": null,
            "grid_template_rows": null,
            "height": null,
            "justify_content": null,
            "justify_items": null,
            "left": null,
            "margin": null,
            "max_height": null,
            "max_width": null,
            "min_height": null,
            "min_width": null,
            "object_fit": null,
            "object_position": null,
            "order": null,
            "overflow": null,
            "overflow_x": null,
            "overflow_y": null,
            "padding": null,
            "right": null,
            "top": null,
            "visibility": null,
            "width": null
          }
        },
        "e5a04dbeba864b8dac5b9684cfd9a44f": {
          "model_module": "@jupyter-widgets/controls",
          "model_module_version": "1.5.0",
          "model_name": "ProgressStyleModel",
          "state": {
            "_model_module": "@jupyter-widgets/controls",
            "_model_module_version": "1.5.0",
            "_model_name": "ProgressStyleModel",
            "_view_count": null,
            "_view_module": "@jupyter-widgets/base",
            "_view_module_version": "1.2.0",
            "_view_name": "StyleView",
            "bar_color": null,
            "description_width": ""
          }
        },
        "f3638c4c9b3f45dd81adb6846f0ff53d": {
          "model_module": "@jupyter-widgets/base",
          "model_module_version": "1.2.0",
          "model_name": "LayoutModel",
          "state": {
            "_model_module": "@jupyter-widgets/base",
            "_model_module_version": "1.2.0",
            "_model_name": "LayoutModel",
            "_view_count": null,
            "_view_module": "@jupyter-widgets/base",
            "_view_module_version": "1.2.0",
            "_view_name": "LayoutView",
            "align_content": null,
            "align_items": null,
            "align_self": null,
            "border": null,
            "bottom": null,
            "display": null,
            "flex": null,
            "flex_flow": null,
            "grid_area": null,
            "grid_auto_columns": null,
            "grid_auto_flow": null,
            "grid_auto_rows": null,
            "grid_column": null,
            "grid_gap": null,
            "grid_row": null,
            "grid_template_areas": null,
            "grid_template_columns": null,
            "grid_template_rows": null,
            "height": null,
            "justify_content": null,
            "justify_items": null,
            "left": null,
            "margin": null,
            "max_height": null,
            "max_width": null,
            "min_height": null,
            "min_width": null,
            "object_fit": null,
            "object_position": null,
            "order": null,
            "overflow": null,
            "overflow_x": null,
            "overflow_y": null,
            "padding": null,
            "right": null,
            "top": null,
            "visibility": null,
            "width": null
          }
        },
        "f4f8197a3b1448c7b0ac3475ba151d45": {
          "model_module": "@jupyter-widgets/controls",
          "model_module_version": "1.5.0",
          "model_name": "DescriptionStyleModel",
          "state": {
            "_model_module": "@jupyter-widgets/controls",
            "_model_module_version": "1.5.0",
            "_model_name": "DescriptionStyleModel",
            "_view_count": null,
            "_view_module": "@jupyter-widgets/base",
            "_view_module_version": "1.2.0",
            "_view_name": "StyleView",
            "description_width": ""
          }
        },
        "f5bd0c862c844f7e87654900dca357d9": {
          "model_module": "@jupyter-widgets/base",
          "model_module_version": "1.2.0",
          "model_name": "LayoutModel",
          "state": {
            "_model_module": "@jupyter-widgets/base",
            "_model_module_version": "1.2.0",
            "_model_name": "LayoutModel",
            "_view_count": null,
            "_view_module": "@jupyter-widgets/base",
            "_view_module_version": "1.2.0",
            "_view_name": "LayoutView",
            "align_content": null,
            "align_items": null,
            "align_self": null,
            "border": null,
            "bottom": null,
            "display": null,
            "flex": null,
            "flex_flow": null,
            "grid_area": null,
            "grid_auto_columns": null,
            "grid_auto_flow": null,
            "grid_auto_rows": null,
            "grid_column": null,
            "grid_gap": null,
            "grid_row": null,
            "grid_template_areas": null,
            "grid_template_columns": null,
            "grid_template_rows": null,
            "height": null,
            "justify_content": null,
            "justify_items": null,
            "left": null,
            "margin": null,
            "max_height": null,
            "max_width": null,
            "min_height": null,
            "min_width": null,
            "object_fit": null,
            "object_position": null,
            "order": null,
            "overflow": null,
            "overflow_x": null,
            "overflow_y": null,
            "padding": null,
            "right": null,
            "top": null,
            "visibility": null,
            "width": null
          }
        },
        "f7ec94fdff74409aa064e291fdde6d44": {
          "model_module": "@jupyter-widgets/controls",
          "model_module_version": "1.5.0",
          "model_name": "HTMLModel",
          "state": {
            "_dom_classes": [],
            "_model_module": "@jupyter-widgets/controls",
            "_model_module_version": "1.5.0",
            "_model_name": "HTMLModel",
            "_view_count": null,
            "_view_module": "@jupyter-widgets/controls",
            "_view_module_version": "1.5.0",
            "_view_name": "HTMLView",
            "description": "",
            "description_tooltip": null,
            "layout": "IPY_MODEL_f5bd0c862c844f7e87654900dca357d9",
            "placeholder": "​",
            "style": "IPY_MODEL_21af24900add43ff8b898ffba4165c86",
            "value": " 3/27 [00:30&lt;02:18,  5.77s/ url]"
          }
        }
      }
    }
  },
  "nbformat": 4,
  "nbformat_minor": 0
}