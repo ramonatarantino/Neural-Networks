{
  "nbformat": 4,
  "nbformat_minor": 0,
  "metadata": {
    "colab": {
      "provenance": [],
      "gpuType": "T4"
    },
    "kernelspec": {
      "name": "python3",
      "display_name": "Python 3"
    },
    "language_info": {
      "name": "python"
    },
    "accelerator": "GPU"
  },
  "cells": [
    {
      "cell_type": "markdown",
      "source": [
        "### Model merging - Ratatouille"
      ],
      "metadata": {
        "id": "B-qZTP5T110f"
      }
    },
    {
      "cell_type": "code",
      "source": [
        "import numpy as np\n",
        "import tensorflow as tf\n",
        "from tensorflow.keras import datasets, utils"
      ],
      "metadata": {
        "id": "iZw9j7Y_wqBt"
      },
      "execution_count": null,
      "outputs": []
    },
    {
      "cell_type": "code",
      "source": [
        "import numpy as np\n",
        "import tensorflow as tf\n",
        "from tensorflow.keras.datasets import fashion_mnist\n",
        "from tensorflow.keras.models import Model\n",
        "from tensorflow.keras.layers import Dense, GlobalAveragePooling2D, Input\n",
        "from tensorflow.keras.optimizers import Adam\n"
      ],
      "metadata": {
        "id": "IwOLvzRiwpM7"
      },
      "execution_count": null,
      "outputs": []
    },
    {
      "cell_type": "code",
      "source": [
        "#early stopping to monitor the validation loss and avoid overfitting\n",
        "from tensorflow.keras.callbacks import EarlyStopping, ReduceLROnPlateau\n",
        "\n",
        "early_stop = EarlyStopping(monitor='val_loss', mode='min', verbose=1, patience=10, restore_best_weights=True)\n",
        "\n",
        "#reducing learning rate on plateau\n",
        "rlrop = ReduceLROnPlateau(monitor='val_loss', mode='min', patience= 5, factor= 0.5, min_lr= 1e-6, verbose=1)"
      ],
      "metadata": {
        "id": "rVNDE3uYzu8n"
      },
      "execution_count": null,
      "outputs": []
    },
    {
      "cell_type": "code",
      "execution_count": null,
      "metadata": {
        "id": "-qrVwvD_q1s2"
      },
      "outputs": [],
      "source": [
        "# Carica il dataset Fashion MNIST\n",
        "(x_train, y_train), (x_test, y_test) = datasets.fashion_mnist.load_data()\n",
        "\n",
        "# Preprocessamento del dataset\n",
        "x_train, x_test = x_train / 255.0, x_test / 255.0\n",
        "\n",
        "# Aggiungi una dimensione dei canali\n",
        "x_train = x_train[..., tf.newaxis]\n",
        "x_test = x_test[..., tf.newaxis]"
      ]
    },
    {
      "cell_type": "code",
      "source": [
        "# Funzione per creare l'architettura del modello\n",
        "def create_model():\n",
        "    model = models.Sequential([\n",
        "        layers.Conv2D(32, (3, 3), activation='relu', input_shape=(28, 28, 1)),\n",
        "        layers.MaxPooling2D((2, 2)),\n",
        "        layers.Conv2D(64, (3, 3), activation='relu'),\n",
        "        layers.MaxPooling2D((2, 2)),\n",
        "        layers.Conv2D(64, (3, 3), activation='relu'),\n",
        "        layers.Flatten(),\n",
        "        layers.Dense(64, activation='relu'),\n",
        "        layers.Dense(10)\n",
        "    ])\n",
        "    return model"
      ],
      "metadata": {
        "id": "iRj4L5lNyBnL"
      },
      "execution_count": null,
      "outputs": []
    },
    {
      "cell_type": "code",
      "source": [
        "# Numero di modelli da addestrare\n",
        "num_models = 5"
      ],
      "metadata": {
        "id": "_pAxQQlezWu6"
      },
      "execution_count": null,
      "outputs": []
    },
    {
      "cell_type": "code",
      "source": [
        "trained_models = []\n",
        "\n",
        "for i in range(num_models):\n",
        "    print(f\"Training model {i+1}/{num_models}\")\n",
        "    model = create_model()\n",
        "    model.compile(optimizer='adam',\n",
        "                  loss=tf.keras.losses.SparseCategoricalCrossentropy(from_logits=True),\n",
        "                  metrics=['accuracy'])\n",
        "\n",
        "    # Addestra il modello\n",
        "    model.fit(x_train, y_train, batch_size=32, epochs=5, validation_data=(x_test, y_test),  callbacks = [early_stop, rlrop],verbose = 1)\n",
        "\n",
        "\n",
        "    # Aggiungi il modello alla lista dei modelli addestrati\n",
        "    trained_models.append(model)"
      ],
      "metadata": {
        "colab": {
          "base_uri": "https://localhost:8080/"
        },
        "id": "5-mAs1CUzYNc",
        "outputId": "d0f60d06-a918-4ce9-8c25-fd1053e4716c"
      },
      "execution_count": null,
      "outputs": [
        {
          "output_type": "stream",
          "name": "stdout",
          "text": [
            "Training model 1/5\n",
            "Epoch 1/5\n",
            "1875/1875 [==============================] - 9s 4ms/step - loss: 0.4906 - accuracy: 0.8194 - val_loss: 0.3573 - val_accuracy: 0.8727 - lr: 0.0010\n",
            "Epoch 2/5\n",
            "1875/1875 [==============================] - 9s 5ms/step - loss: 0.3156 - accuracy: 0.8849 - val_loss: 0.3108 - val_accuracy: 0.8882 - lr: 0.0010\n",
            "Epoch 3/5\n",
            "1875/1875 [==============================] - 8s 4ms/step - loss: 0.2722 - accuracy: 0.9002 - val_loss: 0.3035 - val_accuracy: 0.8866 - lr: 0.0010\n",
            "Epoch 4/5\n",
            "1875/1875 [==============================] - 7s 4ms/step - loss: 0.2424 - accuracy: 0.9107 - val_loss: 0.2701 - val_accuracy: 0.8986 - lr: 0.0010\n",
            "Epoch 5/5\n",
            "1875/1875 [==============================] - 8s 4ms/step - loss: 0.2180 - accuracy: 0.9195 - val_loss: 0.2698 - val_accuracy: 0.9043 - lr: 0.0010\n",
            "Training model 2/5\n",
            "Epoch 1/5\n",
            "1875/1875 [==============================] - 10s 4ms/step - loss: 0.4897 - accuracy: 0.8220 - val_loss: 0.3607 - val_accuracy: 0.8700 - lr: 0.0010\n",
            "Epoch 2/5\n",
            "1875/1875 [==============================] - 7s 4ms/step - loss: 0.3166 - accuracy: 0.8857 - val_loss: 0.3280 - val_accuracy: 0.8798 - lr: 0.0010\n",
            "Epoch 3/5\n",
            "1875/1875 [==============================] - 8s 4ms/step - loss: 0.2724 - accuracy: 0.9013 - val_loss: 0.2877 - val_accuracy: 0.8935 - lr: 0.0010\n",
            "Epoch 4/5\n",
            "1875/1875 [==============================] - 8s 4ms/step - loss: 0.2399 - accuracy: 0.9099 - val_loss: 0.2729 - val_accuracy: 0.9024 - lr: 0.0010\n",
            "Epoch 5/5\n",
            "1875/1875 [==============================] - 8s 4ms/step - loss: 0.2172 - accuracy: 0.9200 - val_loss: 0.2712 - val_accuracy: 0.9024 - lr: 0.0010\n",
            "Training model 3/5\n",
            "Epoch 1/5\n",
            "1875/1875 [==============================] - 9s 4ms/step - loss: 0.4892 - accuracy: 0.8209 - val_loss: 0.3845 - val_accuracy: 0.8609 - lr: 0.0010\n",
            "Epoch 2/5\n",
            "1875/1875 [==============================] - 8s 4ms/step - loss: 0.3138 - accuracy: 0.8860 - val_loss: 0.3147 - val_accuracy: 0.8834 - lr: 0.0010\n",
            "Epoch 3/5\n",
            "1875/1875 [==============================] - 8s 4ms/step - loss: 0.2696 - accuracy: 0.9007 - val_loss: 0.2882 - val_accuracy: 0.8991 - lr: 0.0010\n",
            "Epoch 4/5\n",
            "1875/1875 [==============================] - 8s 4ms/step - loss: 0.2396 - accuracy: 0.9123 - val_loss: 0.2951 - val_accuracy: 0.8906 - lr: 0.0010\n",
            "Epoch 5/5\n",
            "1875/1875 [==============================] - 8s 4ms/step - loss: 0.2167 - accuracy: 0.9204 - val_loss: 0.2668 - val_accuracy: 0.9053 - lr: 0.0010\n",
            "Training model 4/5\n",
            "Epoch 1/5\n",
            "1875/1875 [==============================] - 10s 4ms/step - loss: 0.4938 - accuracy: 0.8181 - val_loss: 0.3819 - val_accuracy: 0.8605 - lr: 0.0010\n",
            "Epoch 2/5\n",
            "1875/1875 [==============================] - 7s 4ms/step - loss: 0.3200 - accuracy: 0.8842 - val_loss: 0.3232 - val_accuracy: 0.8825 - lr: 0.0010\n",
            "Epoch 3/5\n",
            "1875/1875 [==============================] - 8s 4ms/step - loss: 0.2754 - accuracy: 0.8973 - val_loss: 0.3037 - val_accuracy: 0.8929 - lr: 0.0010\n",
            "Epoch 4/5\n",
            "1875/1875 [==============================] - 8s 4ms/step - loss: 0.2469 - accuracy: 0.9081 - val_loss: 0.2670 - val_accuracy: 0.9036 - lr: 0.0010\n",
            "Epoch 5/5\n",
            "1875/1875 [==============================] - 7s 4ms/step - loss: 0.2226 - accuracy: 0.9184 - val_loss: 0.2690 - val_accuracy: 0.9022 - lr: 0.0010\n",
            "Training model 5/5\n",
            "Epoch 1/5\n",
            "1875/1875 [==============================] - 10s 5ms/step - loss: 0.5050 - accuracy: 0.8160 - val_loss: 0.3762 - val_accuracy: 0.8656 - lr: 0.0010\n",
            "Epoch 2/5\n",
            "1875/1875 [==============================] - 8s 4ms/step - loss: 0.3259 - accuracy: 0.8812 - val_loss: 0.3304 - val_accuracy: 0.8796 - lr: 0.0010\n",
            "Epoch 3/5\n",
            "1875/1875 [==============================] - 8s 4ms/step - loss: 0.2762 - accuracy: 0.8981 - val_loss: 0.2931 - val_accuracy: 0.8940 - lr: 0.0010\n",
            "Epoch 4/5\n",
            "1875/1875 [==============================] - 8s 4ms/step - loss: 0.2463 - accuracy: 0.9085 - val_loss: 0.2750 - val_accuracy: 0.9011 - lr: 0.0010\n",
            "Epoch 5/5\n",
            "1875/1875 [==============================] - 8s 4ms/step - loss: 0.2226 - accuracy: 0.9186 - val_loss: 0.2661 - val_accuracy: 0.9008 - lr: 0.0010\n"
          ]
        }
      ]
    },
    {
      "cell_type": "code",
      "source": [
        "\n",
        "# Funzione per calcolare la media dei pesi\n",
        "def average_weights(models):\n",
        "    average_weights = []\n",
        "    for layer in range(len(models[0].get_weights())):\n",
        "        layer_weights = np.array([model.get_weights()[layer] for model in models])\n",
        "        layer_average = np.mean(layer_weights, axis=0)\n",
        "        average_weights.append(layer_average)\n",
        "    return average_weights\n",
        "\n",
        "# Calcola la media dei pesi\n",
        "avg_weights = average_weights(trained_models)\n",
        "\n",
        "\n"
      ],
      "metadata": {
        "id": "cZxRWmKRza5A"
      },
      "execution_count": null,
      "outputs": []
    },
    {
      "cell_type": "code",
      "source": [
        "\n",
        "# Applica i pesi mediati al modello base\n",
        "final_model = create_model()\n",
        "final_model.set_weights(avg_weights)\n",
        "\n",
        "# Valuta il modello finale\n",
        "final_model.compile(optimizer='adam',\n",
        "                    loss=tf.keras.losses.SparseCategoricalCrossentropy(from_logits=True),\n",
        "                    metrics=['accuracy'])\n",
        "\n"
      ],
      "metadata": {
        "id": "LNX9uzRg1JLS"
      },
      "execution_count": null,
      "outputs": []
    },
    {
      "cell_type": "code",
      "source": [
        "final_model.fit(x_train, y_train, batch_size=32, epochs=5, validation_data=(x_test, y_test),  callbacks = [early_stop, rlrop],verbose = 1)\n"
      ],
      "metadata": {
        "colab": {
          "base_uri": "https://localhost:8080/"
        },
        "id": "Zfk4CqGf1bxl",
        "outputId": "4fc84521-a82b-44cf-9156-26f07cbed45c"
      },
      "execution_count": null,
      "outputs": [
        {
          "output_type": "stream",
          "name": "stdout",
          "text": [
            "Epoch 1/5\n",
            "1875/1875 [==============================] - 10s 4ms/step - loss: 0.4465 - accuracy: 0.8371 - val_loss: 0.3348 - val_accuracy: 0.8787 - lr: 0.0010\n",
            "Epoch 2/5\n",
            "1875/1875 [==============================] - 8s 4ms/step - loss: 0.2917 - accuracy: 0.8931 - val_loss: 0.3494 - val_accuracy: 0.8748 - lr: 0.0010\n",
            "Epoch 3/5\n",
            "1875/1875 [==============================] - 7s 4ms/step - loss: 0.2532 - accuracy: 0.9067 - val_loss: 0.2675 - val_accuracy: 0.8980 - lr: 0.0010\n",
            "Epoch 4/5\n",
            "1875/1875 [==============================] - 8s 4ms/step - loss: 0.2284 - accuracy: 0.9150 - val_loss: 0.2669 - val_accuracy: 0.9037 - lr: 0.0010\n",
            "Epoch 5/5\n",
            "1875/1875 [==============================] - 8s 4ms/step - loss: 0.2059 - accuracy: 0.9242 - val_loss: 0.2595 - val_accuracy: 0.9037 - lr: 0.0010\n"
          ]
        },
        {
          "output_type": "execute_result",
          "data": {
            "text/plain": [
              "<keras.src.callbacks.History at 0x78fd558d7bb0>"
            ]
          },
          "metadata": {},
          "execution_count": 32
        }
      ]
    },
    {
      "cell_type": "code",
      "source": [
        "test_loss, test_acc = final_model.evaluate(x_test, y_test, verbose=2)\n",
        "print(f'\\nTest accuracy: {test_acc}')"
      ],
      "metadata": {
        "colab": {
          "base_uri": "https://localhost:8080/"
        },
        "id": "3PXjnFY01qKM",
        "outputId": "0616fd2a-bdf3-4a63-e801-cb0d7f0eee45"
      },
      "execution_count": null,
      "outputs": [
        {
          "output_type": "stream",
          "name": "stdout",
          "text": [
            "313/313 - 1s - loss: 0.2595 - accuracy: 0.9037 - 612ms/epoch - 2ms/step\n",
            "\n",
            "Test accuracy: 0.9036999940872192\n"
          ]
        }
      ]
    }
  ]
}